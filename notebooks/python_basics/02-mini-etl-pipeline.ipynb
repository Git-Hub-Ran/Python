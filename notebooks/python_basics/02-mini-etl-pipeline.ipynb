{
  "nbformat": 4,
  "nbformat_minor": 0,
  "metadata": {
    "colab": {
      "provenance": [],
      "authorship_tag": "ABX9TyPRp+BuuMkw9gS4LXq1bQrh",
      "include_colab_link": true
    },
    "kernelspec": {
      "name": "python3",
      "display_name": "Python 3"
    },
    "language_info": {
      "name": "python"
    }
  },
  "cells": [
    {
      "cell_type": "markdown",
      "metadata": {
        "id": "view-in-github",
        "colab_type": "text"
      },
      "source": [
        "<a href=\"https://colab.research.google.com/github/Git-Hub-Ran/Python/blob/main/notebooks/python_basics/02-mini-etl-pipeline.ipynb\" target=\"_parent\"><img src=\"https://colab.research.google.com/assets/colab-badge.svg\" alt=\"Open In Colab\"/></a>"
      ]
    },
    {
      "cell_type": "markdown",
      "source": [
        "<div style=\"text-align: left\">\n",
        "\n",
        "# 🐍 Mini ETL Pipeline in Python\n",
        "\n",
        "---\n",
        "\n",
        "## 📝 Task Description\n",
        "\n",
        "**Goal:** Implement a mini **ETL pipeline** using Python and pandas.\n",
        "\n",
        "### Steps:\n",
        "1. 📂 **Load a raw data file**  \n",
        "   e.g., a CSV of sales or sensor data.\n",
        "2. 🧹 **Clean / Transform the data**  \n",
        "   - Filter, aggregate, or modify columns as needed.\n",
        "3. 📊 **Output a summary or visualization**  \n",
        "   - Aggregate totals per category  \n",
        "   - Plot the results\n",
        "\n",
        "This project helps you **solidify Python skills** and demonstrates your ability to apply **data engineering principles** in code.\n",
        "\n"
      ],
      "metadata": {
        "id": "lBn5zHinvOZi"
      }
    },
    {
      "cell_type": "code",
      "source": [
        "import pandas as pd\n",
        "\n",
        "#Read a csv file with Sales data:\n",
        "url = \"https://gist.githubusercontent.com/denandreychuk/b9aa812f10e4b60368cff69c6384a210/raw/100%20Sales%20Records.csv\"\n",
        "df = pd.read_csv(url)\n",
        "\n",
        "#Chacking if 'Order ID' can be an index:\n",
        "print(df['Order ID'].is_unique)"
      ],
      "metadata": {
        "id": "l70IPwojvgqd",
        "colab": {
          "base_uri": "https://localhost:8080/"
        },
        "outputId": "07c7413a-673b-4acf-b078-8db68ef4e373"
      },
      "execution_count": 8,
      "outputs": [
        {
          "output_type": "stream",
          "name": "stdout",
          "text": [
            "True\n"
          ]
        }
      ]
    },
    {
      "cell_type": "code",
      "source": [
        "#Define 'Order ID' as Index:\n",
        "df.set_index('Order ID')\n",
        "\n",
        "#Shows amount of orders per country:\n",
        "grouped=df.groupby('Country').Country.count().rename('Count')\n",
        "\n",
        "#See the country with the highest amount of orders on top:\n",
        "grouped.sort_values(ascending=False)\n"
      ],
      "metadata": {
        "colab": {
          "base_uri": "https://localhost:8080/",
          "height": 489
        },
        "id": "_tcQVpQt1y5O",
        "outputId": "7d0c531b-7594-4b01-ed16-c331e1569321"
      },
      "execution_count": 15,
      "outputs": [
        {
          "output_type": "execute_result",
          "data": {
            "text/plain": [
              "Country\n",
              "The Gambia               4\n",
              "Australia                3\n",
              "Djibouti                 3\n",
              "Sao Tome and Principe    3\n",
              "Mexico                   3\n",
              "                        ..\n",
              "Sri Lanka                1\n",
              "Syria                    1\n",
              "Tuvalu                   1\n",
              "United Kingdom           1\n",
              "Zambia                   1\n",
              "Name: Count, Length: 76, dtype: int64"
            ],
            "text/html": [
              "<div>\n",
              "<style scoped>\n",
              "    .dataframe tbody tr th:only-of-type {\n",
              "        vertical-align: middle;\n",
              "    }\n",
              "\n",
              "    .dataframe tbody tr th {\n",
              "        vertical-align: top;\n",
              "    }\n",
              "\n",
              "    .dataframe thead th {\n",
              "        text-align: right;\n",
              "    }\n",
              "</style>\n",
              "<table border=\"1\" class=\"dataframe\">\n",
              "  <thead>\n",
              "    <tr style=\"text-align: right;\">\n",
              "      <th></th>\n",
              "      <th>Count</th>\n",
              "    </tr>\n",
              "    <tr>\n",
              "      <th>Country</th>\n",
              "      <th></th>\n",
              "    </tr>\n",
              "  </thead>\n",
              "  <tbody>\n",
              "    <tr>\n",
              "      <th>The Gambia</th>\n",
              "      <td>4</td>\n",
              "    </tr>\n",
              "    <tr>\n",
              "      <th>Australia</th>\n",
              "      <td>3</td>\n",
              "    </tr>\n",
              "    <tr>\n",
              "      <th>Djibouti</th>\n",
              "      <td>3</td>\n",
              "    </tr>\n",
              "    <tr>\n",
              "      <th>Sao Tome and Principe</th>\n",
              "      <td>3</td>\n",
              "    </tr>\n",
              "    <tr>\n",
              "      <th>Mexico</th>\n",
              "      <td>3</td>\n",
              "    </tr>\n",
              "    <tr>\n",
              "      <th>...</th>\n",
              "      <td>...</td>\n",
              "    </tr>\n",
              "    <tr>\n",
              "      <th>Sri Lanka</th>\n",
              "      <td>1</td>\n",
              "    </tr>\n",
              "    <tr>\n",
              "      <th>Syria</th>\n",
              "      <td>1</td>\n",
              "    </tr>\n",
              "    <tr>\n",
              "      <th>Tuvalu</th>\n",
              "      <td>1</td>\n",
              "    </tr>\n",
              "    <tr>\n",
              "      <th>United Kingdom</th>\n",
              "      <td>1</td>\n",
              "    </tr>\n",
              "    <tr>\n",
              "      <th>Zambia</th>\n",
              "      <td>1</td>\n",
              "    </tr>\n",
              "  </tbody>\n",
              "</table>\n",
              "<p>76 rows × 1 columns</p>\n",
              "</div><br><label><b>dtype:</b> int64</label>"
            ]
          },
          "metadata": {},
          "execution_count": 15
        }
      ]
    },
    {
      "cell_type": "code",
      "source": [
        "\n",
        "#show the total amount of countries:\n",
        "len(grouped.index)\n",
        "\n",
        "#Plot the results:\n"
      ],
      "metadata": {
        "id": "Trl77KBXz8wr",
        "outputId": "fc635568-b8f6-4480-ec7f-e9305cad256e",
        "colab": {
          "base_uri": "https://localhost:8080/"
        }
      },
      "execution_count": 16,
      "outputs": [
        {
          "output_type": "execute_result",
          "data": {
            "text/plain": [
              "76"
            ]
          },
          "metadata": {},
          "execution_count": 16
        }
      ]
    }
  ]
}
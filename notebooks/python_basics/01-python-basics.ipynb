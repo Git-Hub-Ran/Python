{
  "nbformat": 4,
  "nbformat_minor": 0,
  "metadata": {
    "colab": {
      "provenance": [],
      "authorship_tag": "ABX9TyNOfoYuyXGmPVMrqgQSwKfI",
      "include_colab_link": true
    },
    "kernelspec": {
      "name": "python3",
      "display_name": "Python 3"
    },
    "language_info": {
      "name": "python"
    }
  },
  "cells": [
    {
      "cell_type": "markdown",
      "metadata": {
        "id": "view-in-github",
        "colab_type": "text"
      },
      "source": [
        "<a href=\"https://colab.research.google.com/github/Git-Hub-Ran/Python/blob/main/notebooks/python_basics/01-python-basics.ipynb\" target=\"_parent\"><img src=\"https://colab.research.google.com/assets/colab-badge.svg\" alt=\"Open In Colab\"/></a>"
      ]
    },
    {
      "cell_type": "markdown",
      "source": [
        "# 🐍 Python Basics Notebook\n",
        "\n",
        "---\n",
        "\n",
        "## 📝 Task Description\n",
        "\n",
        "**Goal:** Automate a simple **ETL task** using Python.\n",
        "\n",
        "### Steps:\n",
        "1. 📂 **Read a dataset**  \n",
        "   e.g., a CSV of sales or sensor data\n",
        "2. 🔄 **Perform a basic transformation**  \n",
        "   - Filter rows or sum values\n",
        "3. 🖨️ **Print the result**  \n",
        "\n",
        "This task helps you **practice automating a basic ETL process** in Python, reinforcing both programming and ETL concepts.\n",
        "\n"
      ],
      "metadata": {
        "id": "_IXBbVt7skQu"
      }
    },
    {
      "cell_type": "code",
      "execution_count": null,
      "metadata": {
        "colab": {
          "base_uri": "https://localhost:8080/"
        },
        "collapsed": true,
        "id": "noyCxcjJ9J7Q",
        "outputId": "c3839f17-3bba-41df-a12c-f49af73ead1b"
      },
      "outputs": [
        {
          "output_type": "stream",
          "name": "stdout",
          "text": [
            "           Region Country      Item Type Sales Channel Order Priority  \\\n",
            "75  North America  Mexico      Household       Offline              C   \n",
            "85  North America  Mexico  Personal Care       Offline              L   \n",
            "98  North America  Mexico  Personal Care       Offline              M   \n",
            "\n",
            "   Order Date   Order ID   Ship Date  Units Sold  Unit Price  Unit Cost  \\\n",
            "75  11/6/2014  986435210  12/12/2014        6954      668.27     502.54   \n",
            "85  2/17/2012  430915820   3/20/2012        6422       81.73      56.67   \n",
            "98  7/30/2015  559427106    8/8/2015        5767       81.73      56.67   \n",
            "\n",
            "    Total Revenue  Total Cost  Total Profit  \n",
            "75     4647149.58  3494663.16    1152486.42  \n",
            "85      524870.06   363934.74     160935.32  \n",
            "98      471336.91   326815.89     144521.02  \n",
            "\n",
            "\n",
            " total units that were sold in Mexico 19143\n"
          ]
        }
      ],
      "source": [
        "import pandas as pd\n",
        "\n",
        "\n",
        "url = \"https://gist.githubusercontent.com/denandreychuk/b9aa812f10e4b60368cff69c6384a210/raw/100%20Sales%20Records.csv\"\n",
        "\n",
        "df =pd.read_csv(url)\n",
        "\n",
        "#filter sales data only of Mexico:\n",
        "filtered_data=df.loc[(df.Country=='Mexico')]\n",
        "print(filtered_data)\n",
        "#summerizing total units that were sold in Mexico:\n",
        "Total_sold=sum(filtered_data.loc[:,'Units Sold'])\n",
        "print(\"\\n\\n\",\"total units that were sold in Mexico\",Total_sold )\n",
        "\n"
      ]
    }
  ]
}
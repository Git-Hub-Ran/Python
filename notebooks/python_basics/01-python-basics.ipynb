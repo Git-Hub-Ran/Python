{
  "nbformat": 4,
  "nbformat_minor": 0,
  "metadata": {
    "colab": {
      "provenance": [],
      "authorship_tag": "ABX9TyN7Ih0jISDzCls+GWsQ0p2G",
      "include_colab_link": true
    },
    "kernelspec": {
      "name": "python3",
      "display_name": "Python 3"
    },
    "language_info": {
      "name": "python"
    }
  },
  "cells": [
    {
      "cell_type": "markdown",
      "metadata": {
        "id": "view-in-github",
        "colab_type": "text"
      },
      "source": [
        "<a href=\"https://colab.research.google.com/github/Git-Hub-Ran/Python/blob/main/Del1.ipynb\" target=\"_parent\"><img src=\"https://colab.research.google.com/assets/colab-badge.svg\" alt=\"Open In Colab\"/></a>"
      ]
    },
    {
      "cell_type": "code",
      "execution_count": null,
      "metadata": {
        "colab": {
          "base_uri": "https://localhost:8080/"
        },
        "collapsed": true,
        "id": "noyCxcjJ9J7Q",
        "outputId": "c3839f17-3bba-41df-a12c-f49af73ead1b"
      },
      "outputs": [
        {
          "output_type": "stream",
          "name": "stdout",
          "text": [
            "           Region Country      Item Type Sales Channel Order Priority  \\\n",
            "75  North America  Mexico      Household       Offline              C   \n",
            "85  North America  Mexico  Personal Care       Offline              L   \n",
            "98  North America  Mexico  Personal Care       Offline              M   \n",
            "\n",
            "   Order Date   Order ID   Ship Date  Units Sold  Unit Price  Unit Cost  \\\n",
            "75  11/6/2014  986435210  12/12/2014        6954      668.27     502.54   \n",
            "85  2/17/2012  430915820   3/20/2012        6422       81.73      56.67   \n",
            "98  7/30/2015  559427106    8/8/2015        5767       81.73      56.67   \n",
            "\n",
            "    Total Revenue  Total Cost  Total Profit  \n",
            "75     4647149.58  3494663.16    1152486.42  \n",
            "85      524870.06   363934.74     160935.32  \n",
            "98      471336.91   326815.89     144521.02  \n",
            "\n",
            "\n",
            " total units that were sold in Mexico 19143\n"
          ]
        }
      ],
      "source": [
        "import pandas as pd\n",
        "\n",
        "\n",
        "url = \"https://gist.githubusercontent.com/denandreychuk/b9aa812f10e4b60368cff69c6384a210/raw/100%20Sales%20Records.csv\"\n",
        "\n",
        "df =pd.read_csv(url)\n",
        "\n",
        "#filter sales data only of Mexico:\n",
        "filtered_data=df.loc[(df.Country=='Mexico')]\n",
        "print(filtered_data)\n",
        "#summerizing total units that were sold in Mexico:\n",
        "Total_sold=sum(filtered_data.loc[:,'Units Sold'])\n",
        "print(\"\\n\\n\",\"total units that were sold in Mexico\",Total_sold )\n",
        "\n"
      ]
    },
    {
      "cell_type": "code",
      "source": [
        "df.loc[:,'Units Sold'].describe()"
      ],
      "metadata": {
        "colab": {
          "base_uri": "https://localhost:8080/",
          "height": 335
        },
        "id": "9GwzOLzVB3ge",
        "outputId": "e85113d0-5f0f-4323-c1da-27d2e79398e8"
      },
      "execution_count": null,
      "outputs": [
        {
          "output_type": "execute_result",
          "data": {
            "text/plain": [
              "count     100.000000\n",
              "mean     5128.710000\n",
              "std      2794.484562\n",
              "min       124.000000\n",
              "25%      2836.250000\n",
              "50%      5382.500000\n",
              "75%      7369.000000\n",
              "max      9925.000000\n",
              "Name: Units Sold, dtype: float64"
            ],
            "text/html": [
              "<div>\n",
              "<style scoped>\n",
              "    .dataframe tbody tr th:only-of-type {\n",
              "        vertical-align: middle;\n",
              "    }\n",
              "\n",
              "    .dataframe tbody tr th {\n",
              "        vertical-align: top;\n",
              "    }\n",
              "\n",
              "    .dataframe thead th {\n",
              "        text-align: right;\n",
              "    }\n",
              "</style>\n",
              "<table border=\"1\" class=\"dataframe\">\n",
              "  <thead>\n",
              "    <tr style=\"text-align: right;\">\n",
              "      <th></th>\n",
              "      <th>Units Sold</th>\n",
              "    </tr>\n",
              "  </thead>\n",
              "  <tbody>\n",
              "    <tr>\n",
              "      <th>count</th>\n",
              "      <td>100.000000</td>\n",
              "    </tr>\n",
              "    <tr>\n",
              "      <th>mean</th>\n",
              "      <td>5128.710000</td>\n",
              "    </tr>\n",
              "    <tr>\n",
              "      <th>std</th>\n",
              "      <td>2794.484562</td>\n",
              "    </tr>\n",
              "    <tr>\n",
              "      <th>min</th>\n",
              "      <td>124.000000</td>\n",
              "    </tr>\n",
              "    <tr>\n",
              "      <th>25%</th>\n",
              "      <td>2836.250000</td>\n",
              "    </tr>\n",
              "    <tr>\n",
              "      <th>50%</th>\n",
              "      <td>5382.500000</td>\n",
              "    </tr>\n",
              "    <tr>\n",
              "      <th>75%</th>\n",
              "      <td>7369.000000</td>\n",
              "    </tr>\n",
              "    <tr>\n",
              "      <th>max</th>\n",
              "      <td>9925.000000</td>\n",
              "    </tr>\n",
              "  </tbody>\n",
              "</table>\n",
              "</div><br><label><b>dtype:</b> float64</label>"
            ]
          },
          "metadata": {},
          "execution_count": 47
        }
      ]
    }
  ]
}
